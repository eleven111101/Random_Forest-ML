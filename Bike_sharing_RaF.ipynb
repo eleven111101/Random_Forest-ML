{
  "nbformat": 4,
  "nbformat_minor": 0,
  "metadata": {
    "colab": {
      "provenance": [],
      "authorship_tag": "ABX9TyOuyFrA7mUp6mH1Hrb9+iOt",
      "include_colab_link": true
    },
    "kernelspec": {
      "name": "python3",
      "display_name": "Python 3"
    },
    "language_info": {
      "name": "python"
    }
  },
  "cells": [
    {
      "cell_type": "markdown",
      "metadata": {
        "id": "view-in-github",
        "colab_type": "text"
      },
      "source": [
        "<a href=\"https://colab.research.google.com/github/eleven111101/Random_Forest-ML/blob/main/Bike_sharing_RaF.ipynb\" target=\"_parent\"><img src=\"https://colab.research.google.com/assets/colab-badge.svg\" alt=\"Open In Colab\"/></a>"
      ]
    },
    {
      "cell_type": "code",
      "execution_count": 8,
      "metadata": {
        "colab": {
          "base_uri": "https://localhost:8080/"
        },
        "id": "V2Fgb2aCIUoU",
        "outputId": "cc60c038-a6ec-413f-d987-44263be583d8"
      },
      "outputs": [
        {
          "output_type": "stream",
          "name": "stdout",
          "text": [
            "hello\n"
          ]
        }
      ],
      "source": [
        "print(\"hello\")"
      ]
    },
    {
      "cell_type": "code",
      "source": [
        "import pandas as pd\n",
        "import numpy as np\n",
        "import matplotlib.pyplot as ppt\n",
        "import seaborn as sns"
      ],
      "metadata": {
        "id": "m2zwX852IkP8"
      },
      "execution_count": 9,
      "outputs": []
    },
    {
      "cell_type": "code",
      "source": [
        "!unzip /content/Bike-Sharing-Dataset.zip -d /content/\n"
      ],
      "metadata": {
        "id": "txeDUl9LM3zC",
        "outputId": "501fe5db-4225-42f2-86e2-5170b5c11112",
        "colab": {
          "base_uri": "https://localhost:8080/"
        }
      },
      "execution_count": null,
      "outputs": [
        {
          "output_type": "stream",
          "name": "stdout",
          "text": [
            "Archive:  /content/Bike-Sharing-Dataset.zip\n",
            "replace /content/Bike-Sharing-Dataset/day.csv? [y]es, [n]o, [A]ll, [N]one, [r]ename: "
          ]
        }
      ]
    },
    {
      "cell_type": "code",
      "source": [
        "# Reading the CSV file directly\n",
        "df = pd.read_csv('/content/Bike-Sharing-Dataset/hour.csv')"
      ],
      "metadata": {
        "id": "UH_VCiirM47E"
      },
      "execution_count": null,
      "outputs": []
    },
    {
      "cell_type": "code",
      "source": [
        "df.head()"
      ],
      "metadata": {
        "id": "sIr5IUeYNYP5"
      },
      "execution_count": null,
      "outputs": []
    },
    {
      "cell_type": "code",
      "source": [],
      "metadata": {
        "id": "JazSLmRQLdfm"
      },
      "execution_count": null,
      "outputs": []
    },
    {
      "cell_type": "code",
      "source": [
        "df.head(5)"
      ],
      "metadata": {
        "id": "5fVTfiHKKp5t"
      },
      "execution_count": null,
      "outputs": []
    },
    {
      "cell_type": "code",
      "source": [
        "df.info()"
      ],
      "metadata": {
        "id": "VrcTzM4qKxIL"
      },
      "execution_count": null,
      "outputs": []
    },
    {
      "cell_type": "code",
      "source": [
        "df.describe()"
      ],
      "metadata": {
        "id": "BmPzJlPALlX4"
      },
      "execution_count": null,
      "outputs": []
    },
    {
      "cell_type": "code",
      "source": [
        "rename_cols = {\n",
        "   \"mnth\":\"month\",\n",
        "   \"hr\":\"hour\",\n",
        "   \"weathersit\":\"weather\",\n",
        "   \"temp\":\"temperature\",\n",
        "   \"cnt\":\"count\",\n",
        "}"
      ],
      "metadata": {
        "id": "sHu_CuwaN-xN"
      },
      "execution_count": null,
      "outputs": []
    },
    {
      "cell_type": "code",
      "source": [
        "df.rename(columns=rename_cols,inplace=True)"
      ],
      "metadata": {
        "id": "UX2PX-Z5O72T"
      },
      "execution_count": null,
      "outputs": []
    },
    {
      "cell_type": "code",
      "source": [
        "df.head()"
      ],
      "metadata": {
        "id": "adI-f9h7PSPD"
      },
      "execution_count": null,
      "outputs": []
    },
    {
      "cell_type": "code",
      "source": [],
      "metadata": {
        "id": "WcMxcCy3PXKn"
      },
      "execution_count": null,
      "outputs": []
    }
  ]
}