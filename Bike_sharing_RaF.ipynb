{
  "nbformat": 4,
  "nbformat_minor": 0,
  "metadata": {
    "colab": {
      "provenance": [],
      "authorship_tag": "ABX9TyPudQIC/3jG8L9T8rcEr+XW",
      "include_colab_link": true
    },
    "kernelspec": {
      "name": "python3",
      "display_name": "Python 3"
    },
    "language_info": {
      "name": "python"
    }
  },
  "cells": [
    {
      "cell_type": "markdown",
      "metadata": {
        "id": "view-in-github",
        "colab_type": "text"
      },
      "source": [
        "<a href=\"https://colab.research.google.com/github/eleven111101/Random_Forest-ML/blob/main/Bike_sharing_RaF.ipynb\" target=\"_parent\"><img src=\"https://colab.research.google.com/assets/colab-badge.svg\" alt=\"Open In Colab\"/></a>"
      ]
    },
    {
      "cell_type": "code",
      "execution_count": 48,
      "metadata": {
        "colab": {
          "base_uri": "https://localhost:8080/"
        },
        "id": "V2Fgb2aCIUoU",
        "outputId": "e6cc54c6-9d5f-4df3-cee8-0d16cfa75eb5"
      },
      "outputs": [
        {
          "output_type": "stream",
          "name": "stdout",
          "text": [
            "hello\n"
          ]
        }
      ],
      "source": [
        "print(\"hello\")"
      ]
    },
    {
      "cell_type": "code",
      "source": [
        "import pandas as pd\n",
        "import numpy as np\n",
        "import matplotlib.pyplot as plt\n",
        "import seaborn as sns"
      ],
      "metadata": {
        "id": "m2zwX852IkP8"
      },
      "execution_count": 49,
      "outputs": []
    },
    {
      "cell_type": "code",
      "source": [
        "!unzip /content/Bike-Sharing-Dataset.zip -d /content/"
      ],
      "metadata": {
        "id": "txeDUl9LM3zC",
        "outputId": "555d6d1a-1df0-475e-ab25-82dc62f6af82",
        "colab": {
          "base_uri": "https://localhost:8080/"
        }
      },
      "execution_count": null,
      "outputs": [
        {
          "output_type": "stream",
          "name": "stdout",
          "text": [
            "Archive:  /content/Bike-Sharing-Dataset.zip\n",
            "replace /content/Bike-Sharing-Dataset/day.csv? [y]es, [n]o, [A]ll, [N]one, [r]ename: "
          ]
        }
      ]
    },
    {
      "cell_type": "code",
      "source": [
        "# Reading the CSV file directly\n",
        "df = pd.read_csv('/content/Bike-Sharing-Dataset/hour.csv')"
      ],
      "metadata": {
        "id": "UH_VCiirM47E"
      },
      "execution_count": null,
      "outputs": []
    },
    {
      "cell_type": "code",
      "source": [
        "df.head()"
      ],
      "metadata": {
        "id": "sIr5IUeYNYP5"
      },
      "execution_count": null,
      "outputs": []
    },
    {
      "cell_type": "code",
      "source": [
        "df.head(5)"
      ],
      "metadata": {
        "id": "5fVTfiHKKp5t"
      },
      "execution_count": null,
      "outputs": []
    },
    {
      "cell_type": "code",
      "source": [
        "df.info()"
      ],
      "metadata": {
        "id": "VrcTzM4qKxIL"
      },
      "execution_count": null,
      "outputs": []
    },
    {
      "cell_type": "code",
      "source": [
        "df.describe()"
      ],
      "metadata": {
        "id": "BmPzJlPALlX4"
      },
      "execution_count": null,
      "outputs": []
    },
    {
      "cell_type": "code",
      "source": [
        "rename_cols = {\n",
        "   \"mnth\":\"month\",\n",
        "   \"hr\":\"hour\",\n",
        "   \"weathersit\":\"weather\",\n",
        "   \"temp\":\"temperature\",\n",
        "   \"cnt\":\"count\",\n",
        "}"
      ],
      "metadata": {
        "id": "sHu_CuwaN-xN"
      },
      "execution_count": null,
      "outputs": []
    },
    {
      "cell_type": "code",
      "source": [
        "df.rename(columns=rename_cols,inplace=True)"
      ],
      "metadata": {
        "id": "UX2PX-Z5O72T"
      },
      "execution_count": null,
      "outputs": []
    },
    {
      "cell_type": "code",
      "source": [
        "df.head()"
      ],
      "metadata": {
        "id": "adI-f9h7PSPD"
      },
      "execution_count": null,
      "outputs": []
    },
    {
      "cell_type": "code",
      "source": [
        "df.apply(lambda x : int(len(x.unique()))).sort_values(ascending=False)"
      ],
      "metadata": {
        "id": "WcMxcCy3PXKn"
      },
      "execution_count": null,
      "outputs": []
    },
    {
      "cell_type": "code",
      "source": [
        "df=df.drop([\"instant\",\"dteday\",\"yr\"],axis=1)"
      ],
      "metadata": {
        "id": "CrRTsbgqfexW"
      },
      "execution_count": null,
      "outputs": []
    },
    {
      "cell_type": "code",
      "source": [
        "df.shape"
      ],
      "metadata": {
        "id": "Wgi2RjDKfvBy"
      },
      "execution_count": null,
      "outputs": []
    },
    {
      "cell_type": "code",
      "source": [
        "df.corr()"
      ],
      "metadata": {
        "id": "AZWhM_hrfxDC"
      },
      "execution_count": null,
      "outputs": []
    },
    {
      "cell_type": "code",
      "source": [
        "\n",
        "plt.figure(figsize=(12,8))\n",
        "sns.heatmap(df.corr(),annot=True)"
      ],
      "metadata": {
        "id": "rWMq_5RDfz7I"
      },
      "execution_count": null,
      "outputs": []
    },
    {
      "cell_type": "code",
      "source": [
        "plt.figure(figsize=(15,8))\n",
        "sns.pointplot(data=df,x=\"hour\",y=\"count\",hue=\"weekday\")\n",
        "plt.title(\"Bike sharing trend\")"
      ],
      "metadata": {
        "id": "LlRHnQaHgyAN"
      },
      "execution_count": null,
      "outputs": []
    },
    {
      "cell_type": "code",
      "source": [
        "plt.figure(figsize=(15,8))\n",
        "sns.pointplot(data=df,x=\"hour\",y=\"casual\",hue=\"weekday\")\n",
        "plt.title(\" Casual Bike sharing trend\")"
      ],
      "metadata": {
        "id": "MQ22H4BGiX9m"
      },
      "execution_count": null,
      "outputs": []
    },
    {
      "cell_type": "code",
      "source": [
        "plt.figure(figsize=(15,8))\n",
        "sns.pointplot(data=df,x=\"hour\",y=\"registered\",hue=\"weekday\")\n",
        "plt.title(\" Registered Bike sharing trend\")"
      ],
      "metadata": {
        "id": "ZeqCzYfSiRkO"
      },
      "execution_count": null,
      "outputs": []
    },
    {
      "cell_type": "code",
      "source": [
        "plt.figure(figsize=(15,8))\n",
        "sns.pointplot(data=df,x=\"hour\",y=\"count\",hue=\"season\")\n",
        "plt.title(\" Seasonal Bike sharing trend\")"
      ],
      "metadata": {
        "id": "P72diyyxmBjs"
      },
      "execution_count": null,
      "outputs": []
    },
    {
      "cell_type": "code",
      "source": [
        "plt.figure(figsize=(15,8))\n",
        "sns.pointplot(data=df,x=\"hour\",y=\"count\",hue=\"weather\")\n",
        "plt.title(\" Weather Bike sharing trend\")"
      ],
      "metadata": {
        "id": "j04ddyQemn0i"
      },
      "execution_count": null,
      "outputs": []
    },
    {
      "cell_type": "code",
      "source": [
        "\n",
        "cols = [\"season\", \"month\", \"hour\", \"holiday\", \"weekday\", \"workingday\", \"weather\"]\n",
        "for col in cols:\n",
        "    dummies = pd.get_dummies(df[col], prefix=col[:3], drop_first=True)\n",
        "    df = pd.concat([df, dummies], axis=1)\n",
        "    df.drop(col, axis=1, inplace=True)"
      ],
      "metadata": {
        "id": "dIOrnimlneFO"
      },
      "execution_count": null,
      "outputs": []
    },
    {
      "cell_type": "code",
      "source": [
        "df.head()"
      ],
      "metadata": {
        "id": "MIad9jfArFsT"
      },
      "execution_count": null,
      "outputs": []
    },
    {
      "cell_type": "code",
      "source": [
        "df.shape"
      ],
      "metadata": {
        "id": "2cPhINiKrHqf"
      },
      "execution_count": null,
      "outputs": []
    },
    {
      "cell_type": "code",
      "source": [
        "plt.figure(figsize=[15,8])\n",
        "sns.displot(df[\"count\"])"
      ],
      "metadata": {
        "id": "jM0CuT09rLgY"
      },
      "execution_count": null,
      "outputs": []
    },
    {
      "cell_type": "code",
      "source": [
        "df[\"count\"].min()"
      ],
      "metadata": {
        "id": "jM4Ee-M6uu_R"
      },
      "execution_count": null,
      "outputs": []
    },
    {
      "cell_type": "code",
      "source": [
        "df[\"count\"] = np.log(df[\"count\"])"
      ],
      "metadata": {
        "id": "Q6ElZ0u8vDFY"
      },
      "execution_count": null,
      "outputs": []
    },
    {
      "cell_type": "code",
      "source": [
        "plt.figure(figsize=[15,8])\n",
        "sns.displot(df[\"count\"])"
      ],
      "metadata": {
        "id": "506nqAcsvMqD"
      },
      "execution_count": null,
      "outputs": []
    }
  ]
}